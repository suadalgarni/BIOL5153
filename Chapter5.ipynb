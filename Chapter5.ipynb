{
 "cells": [
  {
   "cell_type": "code",
   "execution_count": 1,
   "metadata": {},
   "outputs": [
    {
     "name": "stdout",
     "output_type": "stream",
     "text": [
      "10.0\n"
     ]
    }
   ],
   "source": [
    "protein = \"MSRSLLLRFLLFLLLLPPLP\"\n",
    "aa = \"R\"\n",
    "aa_count = protein.count(aa)\n",
    "protein_length = len(protein)\n",
    "percentage = aa_count * 100 / protein_length\n",
    "print(percentage)"
   ]
  },
  {
   "cell_type": "code",
   "execution_count": 31,
   "metadata": {},
   "outputs": [
    {
     "ename": "SyntaxError",
     "evalue": "'return' outside function (<ipython-input-31-ac917ef2d2ea>, line 5)",
     "output_type": "error",
     "traceback": [
      "\u001b[0;36m  File \u001b[0;32m\"<ipython-input-31-ac917ef2d2ea>\"\u001b[0;36m, line \u001b[0;32m5\u001b[0m\n\u001b[0;31m    return percentage\u001b[0m\n\u001b[0m                     ^\u001b[0m\n\u001b[0;31mSyntaxError\u001b[0m\u001b[0;31m:\u001b[0m 'return' outside function\n"
     ]
    }
   ],
   "source": [
    "def get_aa_percentage(protein, aa):\n",
    " aa_count = protein.count(aa)\n",
    "protein_length = len(protein)\n",
    "percentage = aa_count * 100 / protein_length\n",
    "return percentage\n",
    "# test the function with assertions\n",
    "assert get_aa_percentage(\"MSRSLLLRFLLFLLLLPPLP\", \"M\") == 5\n",
    "assert get_aa_percentage(\"MSRSLLLRFLLFLLLLPPLP\", \"r\") == 10\n",
    "assert get_aa_percentage(\"msrslllrfllfllllpplp\", \"L\") == 50\n",
    "assert get_aa_percentage(\"MSRSLLLRFLLFLLLLPPLP\", \"Y\") == 0"
   ]
  },
  {
   "cell_type": "code",
   "execution_count": 26,
   "metadata": {},
   "outputs": [],
   "source": [
    "def get_aa_percentage(protein, aa_list=['A','I','L','M','F','W','Y','V']):\n",
    " protein = protein.upper()\n",
    " protein_length = len(protein)\n",
    " total = 0\n",
    " for aa in aa_list:\n",
    "  aa = aa.upper()\n",
    " aa_count = protein.count(aa)\n",
    " total = total + aa_count\n",
    " percentage = total * 100 / protein_length\n",
    " return percentage"
   ]
  },
  {
   "cell_type": "code",
   "execution_count": null,
   "metadata": {},
   "outputs": [],
   "source": []
  }
 ],
 "metadata": {
  "kernelspec": {
   "display_name": "Python 3",
   "language": "python",
   "name": "python3"
  },
  "language_info": {
   "codemirror_mode": {
    "name": "ipython",
    "version": 3
   },
   "file_extension": ".py",
   "mimetype": "text/x-python",
   "name": "python",
   "nbconvert_exporter": "python",
   "pygments_lexer": "ipython3",
   "version": "3.6.4"
  }
 },
 "nbformat": 4,
 "nbformat_minor": 2
}
