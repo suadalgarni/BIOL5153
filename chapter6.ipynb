{
 "cells": [
  {
   "cell_type": "code",
   "execution_count": 1,
   "metadata": {},
   "outputs": [
    {
     "name": "stdout",
     "output_type": "stream",
     "text": [
      "kdy647\n",
      "jdg766\n",
      "kdy533\n",
      "hdt739\n",
      "hdu045\n",
      "teg436\n"
     ]
    }
   ],
   "source": [
    "data = open(\"data.csv\")\n",
    "for line in data:\n",
    " columns = line.rstrip(\"\\n\").split(\",\")\n",
    " species = columns[0]\n",
    " sequence = columns[1]\n",
    " name = columns[2]\n",
    " expression = columns[3]\n",
    " print(name)"
   ]
  },
  {
   "cell_type": "code",
   "execution_count": 4,
   "metadata": {},
   "outputs": [
    {
     "name": "stdout",
     "output_type": "stream",
     "text": [
      "kdy647\n",
      "jdg766\n",
      "kdy533\n"
     ]
    }
   ],
   "source": [
    "data = open(\"data.csv\")\n",
    "for line in data:\n",
    " columns = line.rstrip(\"\\n\").split(\",\")\n",
    " species = columns[0]\n",
    " sequence = columns[1]\n",
    " name = columns[2]\n",
    " expression = columns[3]\n",
    " if species == \"Drosophila melanogaster\" or species == \"Drosophila simulans\":\n",
    "  print(name)"
   ]
  },
  {
   "cell_type": "code",
   "execution_count": 6,
   "metadata": {},
   "outputs": [
    {
     "name": "stdout",
     "output_type": "stream",
     "text": [
      "kdy647\n",
      "teg436\n"
     ]
    }
   ],
   "source": [
    "data = open(\"data.csv\")\n",
    "for line in data:\n",
    " columns = line.rstrip(\"\\n\").split(\",\")\n",
    " species = columns[0]\n",
    " sequence = columns[1]\n",
    " name = columns[2]\n",
    " expression = columns[3]\n",
    " if len(sequence) > 90 and len(sequence) < 110:\n",
    "  print(name) "
   ]
  },
  {
   "cell_type": "code",
   "execution_count": 29,
   "metadata": {},
   "outputs": [
    {
     "name": "stdout",
     "output_type": "stream",
     "text": [
      "kdy533\n",
      "hdt739\n",
      "hdu045\n"
     ]
    }
   ],
   "source": [
    "data = open(\"data.csv\")\n",
    "for line in data:\n",
    " columns = line.rstrip(\"\\n\").split(\",\")\n",
    " species = columns[0]\n",
    " sequence = columns[1]\n",
    " name = columns[2]\n",
    " expression = columns[3]\n",
    " if (name.startswith('k') or name.startswith('h')) and species !=\"Drosophila melanogaster\":\n",
    "   print(name)"
   ]
  },
  {
   "cell_type": "code",
   "execution_count": 66,
   "metadata": {},
   "outputs": [
    {
     "name": "stdout",
     "output_type": "stream",
     "text": [
      "kdy647 has high AT content\n"
     ]
    }
   ],
   "source": [
    "# our function to get AT content \n",
    "def get_at_content(dna):\n",
    " length = len(dna)\n",
    " a_count = dna.upper().count('A')\n",
    " t_count = dna.upper().count('T')\n",
    " at_content = (a_count + t_count) / length\n",
    " return at_content \n",
    "data = open(\"data.csv\")\n",
    "for line in data:\n",
    " columns = line.rstrip(\"\\n\").split(\",\")\n",
    " species = columns[0]\n",
    " sequence = columns[1]\n",
    " name = columns[2]\n",
    " expression = columns[3]\n",
    " if get_at_content(sequence) > 0.65:\n",
    "    print(name + \" has high AT content\")"
   ]
  },
  {
   "cell_type": "code",
   "execution_count": 71,
   "metadata": {},
   "outputs": [
    {
     "name": "stdout",
     "output_type": "stream",
     "text": [
      "teg436 has medium AT content\n"
     ]
    }
   ],
   "source": [
    "if get_at_content(sequence) < 0.45:\n",
    " print(name + \" has low AT content\")\n",
    "else:\n",
    "    print(name + \" has medium AT content\")"
   ]
  },
  {
   "cell_type": "code",
   "execution_count": null,
   "metadata": {},
   "outputs": [],
   "source": []
  }
 ],
 "metadata": {
  "kernelspec": {
   "display_name": "Python 3",
   "language": "python",
   "name": "python3"
  },
  "language_info": {
   "codemirror_mode": {
    "name": "ipython",
    "version": 3
   },
   "file_extension": ".py",
   "mimetype": "text/x-python",
   "name": "python",
   "nbconvert_exporter": "python",
   "pygments_lexer": "ipython3",
   "version": "3.6.4"
  }
 },
 "nbformat": 4,
 "nbformat_minor": 2
}
