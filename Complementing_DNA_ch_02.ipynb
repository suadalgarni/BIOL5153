{
 "cells": [
  {
   "cell_type": "code",
   "execution_count": 1,
   "metadata": {},
   "outputs": [
    {
     "name": "stdout",
     "output_type": "stream",
     "text": [
      "TCTGTTCGTTTTCGTTTTGTTTTTGCTTTCTTTCTTTTTTTTCGTTGCGTTCTT\n",
      "ACAGAACGAAAACGAAAAGAAAAAGCAAACAAACAAAAAAAACGAAGCGAACAA\n",
      "AGAGAAGGAAAAGGAAAAGAAAAAGGAAAGAAAGAAAAAAAAGGAAGGGAAGAA\n",
      "ACACAACCAAAACCAAAACAAAAACCAAACAAACAAAAAAAACCAACCCAACAA\n"
     ]
    }
   ],
   "source": [
    "my_dna = \"ACTGATCGATTACGTATAGTATTTGCTATCATACATATATATCGATGCGTTCAT\"\n",
    "replacement1 = my_dna.replace('A', 'T')\n",
    "\n",
    "print(replacement1)\n",
    "\n",
    "replacement2 = replacement1.replace('T', 'A')\n",
    "\n",
    "print(replacement2)\n",
    "\n",
    "replacement3 = replacement2.replace('C', 'G')\n",
    "\n",
    "print(replacement3)\n",
    "\n",
    "replacement4 = replacement3.replace('G', 'C')\n",
    "\n",
    "print(replacement4)"
   ]
  }
 ],
 "metadata": {
  "kernelspec": {
   "display_name": "Python 3",
   "language": "python",
   "name": "python3"
  },
  "language_info": {
   "codemirror_mode": {
    "name": "ipython",
    "version": 3
   },
   "file_extension": ".py",
   "mimetype": "text/x-python",
   "name": "python",
   "nbconvert_exporter": "python",
   "pygments_lexer": "ipython3",
   "version": "3.6.3"
  }
 },
 "nbformat": 4,
 "nbformat_minor": 2
}
