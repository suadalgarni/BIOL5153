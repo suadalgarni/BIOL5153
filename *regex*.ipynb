{
 "cells": [
  {
   "cell_type": "code",
   "execution_count": 2,
   "metadata": {},
   "outputs": [],
   "source": [
    "import re"
   ]
  },
  {
   "cell_type": "code",
   "execution_count": 3,
   "metadata": {},
   "outputs": [
    {
     "name": "stdout",
     "output_type": "stream",
     "text": [
      "Alicia&Keys\n",
      "Found a match: licia\n",
      "Found another match: a&\n"
     ]
    }
   ],
   "source": [
    "# the dot matches any character, except a new line\n",
    "# \"escape\" special characters with a \"\\\" to match them as literals\n",
    "\n",
    "crush  = 'Alicia&Keys'\n",
    "print(crush)\n",
    "\n",
    "match = re.search(\"licia\", crush)\n",
    "\n",
    "if match:\n",
    "    print(\"Found a match:\", match.group(0))\n",
    "\n",
    "# the preceding r tells Python to match *raw strings*, i.e., not to interpolate special metacharacters\n",
    "match = re.search(r\"(a.)\", crush)\n",
    "if match:\n",
    "    print(\"Found another match:\", match.group(1))\n",
    "else:\n",
    "    print(\"No match\")"
   ]
  },
  {
   "cell_type": "code",
   "execution_count": 4,
   "metadata": {},
   "outputs": [
    {
     "name": "stdout",
     "output_type": "stream",
     "text": [
      "Full match: Alicia K\n",
      "Captured: K\n"
     ]
    }
   ],
   "source": [
    "# character classes\n",
    "crush = 'Alicia Keys'\n",
    "match = re.search(\"Alicia ([a-zA-Z])\", crush)\n",
    "if match:\n",
    "    print(\"Full match:\", match.group(0))\n",
    "    print(\"Captured:\", match.group(1))\n",
    "else:\n",
    "    print(\"No match\")"
   ]
  },
  {
   "cell_type": "code",
   "execution_count": 5,
   "metadata": {},
   "outputs": [
    {
     "name": "stdout",
     "output_type": "stream",
     "text": [
      "Full match: Allllllllllllicia Keys\n",
      "There are 12 l's: llllllllllll\n"
     ]
    }
   ],
   "source": [
    "# QUANTIFIERS: \"+\" means \"match the preceding character or character class one or more times\"\n",
    "crush = 'Allllllllllllicia Keys'\n",
    "match = re.search(\"A(l+)icia Keys\", crush)\n",
    "if match:\n",
    "    print(\"Full match:\", match.group(0))\n",
    "    print(\"There are\", len(match.group(1)), \"l's:\", match.group(1))\n",
    "else:\n",
    "    print(\"No match\")"
   ]
  },
  {
   "cell_type": "code",
   "execution_count": 6,
   "metadata": {},
   "outputs": [
    {
     "name": "stdout",
     "output_type": "stream",
     "text": [
      "Full match: Alicia\n",
      "Captured: Alicia\n"
     ]
    }
   ],
   "source": [
    "crush = 'AliciaAiciaAicia Keys'\n",
    "match = re.search(\"(Alicia)+\", crush)\n",
    "if match:\n",
    "    print(\"Full match:\", match.group(0))\n",
    "    print(\"Captured:\", match.group(1))\n",
    "else:\n",
    "    print(\"No match\")"
   ]
  },
  {
   "cell_type": "code",
   "execution_count": 7,
   "metadata": {},
   "outputs": [
    {
     "name": "stdout",
     "output_type": "stream",
     "text": [
      "Full match: AliciaKeys\n",
      "Captured:[]\n"
     ]
    }
   ],
   "source": [
    "# QUANTIFIERS: \"*\" means \"match the preceding character or character class 0 or more times\", i.e., it's optional\n",
    "crush = 'AliciaKeys'\n",
    "match = re.search(\"Alicia(.*)Keys\", crush)\n",
    "if match:\n",
    "    print(\"Full match:\", match.group(0))\n",
    "    print(\"Captured:\" + \"[\" + match.group(1) + \"]\")\n",
    "else:\n",
    "    print(\"No match\")"
   ]
  },
  {
   "cell_type": "code",
   "execution_count": 8,
   "metadata": {},
   "outputs": [
    {
     "name": "stdout",
     "output_type": "stream",
     "text": [
      "Found a diva: AliciaKeys\n"
     ]
    }
   ],
   "source": [
    "# either, or\n",
    "crush = 'Beyonce'\n",
    "diva = re.search(\"Alicia|Beyonce\", crush)\n",
    "if match:\n",
    "    print(\"Found a diva:\", match.group())\n",
    "else:\n",
    "    print(\"No match:\", match)"
   ]
  },
  {
   "cell_type": "code",
   "execution_count": 9,
   "metadata": {},
   "outputs": [
    {
     "name": "stdout",
     "output_type": "stream",
     "text": [
      "the third capture: on\n"
     ]
    }
   ],
   "source": [
    "# capture and test for a match\n",
    "crush = 'Beyonce'\n",
    "match = re.search(\"(Be).*(y(on)ce)\", crush)\n",
    "if match:\n",
    "    print(\"the third capture:\", match.group(3))\n",
    "else:\n",
    "    print(\"No match\")"
   ]
  },
  {
   "cell_type": "code",
   "execution_count": 10,
   "metadata": {},
   "outputs": [
    {
     "name": "stdout",
     "output_type": "stream",
     "text": [
      "Found a match: Alicia\n"
     ]
    }
   ],
   "source": [
    "# more specific quantifiers\n",
    "crush = 'AliciaAliciaAlicia Keys'\n",
    "match = re.search(\"(Alicia){3,5}\", crush)\n",
    "if match:\n",
    "    print(\"Found a match:\", match.group(1))\n",
    "else:\n",
    "    print(\"No match:\", match)"
   ]
  },
  {
   "cell_type": "code",
   "execution_count": 11,
   "metadata": {},
   "outputs": [
    {
     "name": "stdout",
     "output_type": "stream",
     "text": [
      "crush: AliciaAliciaAlicia\t\t\tKeys\n",
      "the third capture: [\t\t\t]\n"
     ]
    }
   ],
   "source": [
    "crush = 'AliciaAliciaAlicia\\t\\t\\tKeys'\n",
    "print('crush:', crush)\n",
    "match = re.search(\"((Alicia){2,})(\\s+)Keys\", crush)\n",
    "if match:\n",
    "    print(\"the third capture:\" , \"[\" + match.group(3) + \"]\")\n",
    "else:\n",
    "    print(\"No match:\", match)"
   ]
  },
  {
   "cell_type": "code",
   "execution_count": 12,
   "metadata": {},
   "outputs": [
    {
     "name": "stdout",
     "output_type": "stream",
     "text": [
      "Found a match: Alicia\n"
     ]
    }
   ],
   "source": [
    "# modifiers\n",
    "crush = 'Alicia Keys'\n",
    "match = re.search(\"alicia\", crush, re.I)\n",
    "if match:\n",
    "    print(\"Found a match:\", match.group())\n",
    "else:\n",
    "    print(\"No match:\", match)"
   ]
  },
  {
   "cell_type": "code",
   "execution_count": 13,
   "metadata": {},
   "outputs": [
    {
     "name": "stdout",
     "output_type": "stream",
     "text": [
      "We love Peaches\n"
     ]
    }
   ],
   "source": [
    "# use variables inside your regular expressions\n",
    "cat1 = 'Peaches'\n",
    "fact = 'We love ' + cat1\n",
    "print(fact)\n",
    "\n",
    "pat = re.compile(cat1)\n",
    "match = pat.search(fact)"
   ]
  },
  {
   "cell_type": "code",
   "execution_count": 14,
   "metadata": {},
   "outputs": [
    {
     "name": "stdout",
     "output_type": "stream",
     "text": [
      "Found a match:[Holy moly</BOLD>, it's <BOLD>Alicia Keys]\n"
     ]
    }
   ],
   "source": [
    "# *, +, and {} are greedy, they match as much as they possibly can\n",
    "crush = \"<BOLD>Holy moly</BOLD>, it's <BOLD>Alicia Keys</BOLD>\"\n",
    "match = re.search(\"<BOLD>(.*)</BOLD>\", crush)\n",
    "if match:\n",
    "    print(\"Found a match:\" + \"[\" + match.group(1) + \"]\")\n",
    "else:\n",
    "    print(\"No match:\", match)"
   ]
  },
  {
   "cell_type": "code",
   "execution_count": 15,
   "metadata": {},
   "outputs": [
    {
     "name": "stdout",
     "output_type": "stream",
     "text": [
      "Found a match:[Holy moly]\n"
     ]
    }
   ],
   "source": [
    "# add ? to make *, +, and {} NON-GREEDY\n",
    "crush = \"<BOLD>Holy moly</BOLD>, it's <BOLD>Alicia Keys</BOLD>\"\n",
    "match = re.search(\"<BOLD>(.*?)</BOLD>\", crush)\n",
    "if match:\n",
    "    print(\"Found a match:\" + \"[\" + match.group(1) + \"]\")\n",
    "else:\n",
    "    print(\"No match:\", match)"
   ]
  },
  {
   "cell_type": "code",
   "execution_count": null,
   "metadata": {},
   "outputs": [],
   "source": []
  }
 ],
 "metadata": {
  "kernelspec": {
   "display_name": "Python 3",
   "language": "python",
   "name": "python3"
  },
  "language_info": {
   "codemirror_mode": {
    "name": "ipython",
    "version": 3
   },
   "file_extension": ".py",
   "mimetype": "text/x-python",
   "name": "python",
   "nbconvert_exporter": "python",
   "pygments_lexer": "ipython3",
   "version": "3.6.4"
  }
 },
 "nbformat": 4,
 "nbformat_minor": 2
}
